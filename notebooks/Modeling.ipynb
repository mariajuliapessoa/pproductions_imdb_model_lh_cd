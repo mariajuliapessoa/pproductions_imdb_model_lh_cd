{
 "cells": [
  {
   "cell_type": "code",
   "execution_count": null,
   "id": "53527cec",
   "metadata": {},
   "outputs": [],
   "source": [
    "import sys\n",
    "from pathlib import Path\n",
    "import pandas as pd\n",
    "import os\n",
    "\n",
    "project_root = Path(\"..\").resolve()\n",
    "src_path = project_root / \"src\"\n",
    "if str(src_path) not in sys.path:\n",
    "    sys.path.append(str(src_path))\n",
    "\n",
    "from imports import *"
   ]
  },
  {
   "cell_type": "code",
   "execution_count": null,
   "id": "1c99dad6",
   "metadata": {},
   "outputs": [],
   "source": [
    "dataset_path = \"../data/processed/imdb_clean.csv\"\n",
    "df = pd.read_csv(dataset_path)\n",
    "df.head()\n"
   ]
  },
  {
   "cell_type": "code",
   "execution_count": 12,
   "id": "55abfa56",
   "metadata": {},
   "outputs": [],
   "source": [
    "# Variáveis numéricas\n",
    "numeric_features = ['Runtime_Min', 'Meta_score', 'Gross_USD', 'No_of_Votes']\n",
    "\n",
    "# Variáveis categóricas\n",
    "categorical_features = ['Certificate']\n",
    "\n",
    "# Variáveis binárias (gêneros)\n",
    "binary_features = [c for c in df.columns if c.startswith('Genre_')]\n",
    "\n",
    "# Variável de texto\n",
    "text_features = 'Overview'\n",
    "\n",
    "# Target\n",
    "y = df['IMDB_Rating']\n",
    "\n",
    "# Split\n",
    "X_train, X_test, y_train, y_test = train_test_split(\n",
    "    df[numeric_features + categorical_features + binary_features + [text_features]],\n",
    "    y, test_size=0.2, random_state=42\n",
    ")"
   ]
  },
  {
   "cell_type": "code",
   "execution_count": 13,
   "id": "d4468abc",
   "metadata": {},
   "outputs": [],
   "source": [
    "# Preprocessamento\n",
    "preprocessor = ColumnTransformer(\n",
    "    transformers=[\n",
    "        ('num', Pipeline([\n",
    "            ('imputer', SimpleImputer(strategy='median')),\n",
    "            ('scaler', StandardScaler())\n",
    "        ]), numeric_features),\n",
    "        ('cat', Pipeline([\n",
    "            ('imputer', SimpleImputer(strategy='most_frequent')),\n",
    "            ('onehot', OneHotEncoder(handle_unknown='ignore'))\n",
    "        ]), categorical_features),\n",
    "        ('bin', 'passthrough', binary_features),\n",
    "        ('tfidf', TfidfVectorizer(max_features=5000, stop_words='english'), text_features)\n",
    "    ]\n",
    ")\n",
    "\n",
    "# Pipeline final\n",
    "model = Pipeline([\n",
    "    ('preproc', preprocessor),\n",
    "    ('regressor', GradientBoostingRegressor(random_state=42))\n",
    "])\n"
   ]
  },
  {
   "cell_type": "code",
   "execution_count": 14,
   "id": "2be30d0d",
   "metadata": {},
   "outputs": [
    {
     "name": "stdout",
     "output_type": "stream",
     "text": [
      "RMSE: 0.20774026639392196\n",
      "R2: 0.34257482357233504\n"
     ]
    },
    {
     "name": "stderr",
     "output_type": "stream",
     "text": [
      "c:\\Users\\maria\\AppData\\Local\\Programs\\Python\\Python311\\Lib\\site-packages\\sklearn\\metrics\\_regression.py:492: FutureWarning: 'squared' is deprecated in version 1.4 and will be removed in 1.6. To calculate the root mean squared error, use the function'root_mean_squared_error'.\n",
      "  warnings.warn(\n"
     ]
    }
   ],
   "source": [
    "# Treinamento\n",
    "model.fit(X_train, y_train)\n",
    "\n",
    "# Avaliação\n",
    "y_pred = model.predict(X_test)\n",
    "print(\"RMSE:\", mean_squared_error(y_test, y_pred, squared=False))\n",
    "print(\"R2:\", r2_score(y_test, y_pred))\n"
   ]
  },
  {
   "cell_type": "code",
   "execution_count": 19,
   "id": "eb97b874",
   "metadata": {},
   "outputs": [
    {
     "ename": "FileNotFoundError",
     "evalue": "[Errno 2] No such file or directory: 'models/imdb_rating_model.pkl'",
     "output_type": "error",
     "traceback": [
      "\u001b[31m---------------------------------------------------------------------------\u001b[39m",
      "\u001b[31mFileNotFoundError\u001b[39m                         Traceback (most recent call last)",
      "\u001b[36mCell\u001b[39m\u001b[36m \u001b[39m\u001b[32mIn[19]\u001b[39m\u001b[32m, line 4\u001b[39m\n\u001b[32m      1\u001b[39m \u001b[38;5;28;01mimport\u001b[39;00m\u001b[38;5;250m \u001b[39m\u001b[34;01mjoblib\u001b[39;00m\n\u001b[32m      3\u001b[39m \u001b[38;5;66;03m# Salvar o modelo\u001b[39;00m\n\u001b[32m----> \u001b[39m\u001b[32m4\u001b[39m \u001b[43mjoblib\u001b[49m\u001b[43m.\u001b[49m\u001b[43mdump\u001b[49m\u001b[43m(\u001b[49m\u001b[43mmodel\u001b[49m\u001b[43m,\u001b[49m\u001b[43m \u001b[49m\u001b[33;43m'\u001b[39;49m\u001b[33;43mmodels/imdb_rating_model.pkl\u001b[39;49m\u001b[33;43m'\u001b[39;49m\u001b[43m)\u001b[49m  \u001b[38;5;66;03m# criar a pasta 'models' na raiz se não existir\u001b[39;00m\n",
      "\u001b[36mFile \u001b[39m\u001b[32mc:\\Users\\maria\\AppData\\Local\\Programs\\Python\\Python311\\Lib\\site-packages\\joblib\\numpy_pickle.py:599\u001b[39m, in \u001b[36mdump\u001b[39m\u001b[34m(value, filename, compress, protocol)\u001b[39m\n\u001b[32m    597\u001b[39m         NumpyPickler(f, protocol=protocol).dump(value)\n\u001b[32m    598\u001b[39m \u001b[38;5;28;01melif\u001b[39;00m is_filename:\n\u001b[32m--> \u001b[39m\u001b[32m599\u001b[39m     \u001b[38;5;28;01mwith\u001b[39;00m \u001b[38;5;28mopen\u001b[39m(filename, \u001b[33m\"\u001b[39m\u001b[33mwb\u001b[39m\u001b[33m\"\u001b[39m) \u001b[38;5;28;01mas\u001b[39;00m f:\n\u001b[32m    600\u001b[39m         NumpyPickler(f, protocol=protocol).dump(value)\n\u001b[32m    601\u001b[39m \u001b[38;5;28;01melse\u001b[39;00m:\n",
      "\u001b[31mFileNotFoundError\u001b[39m: [Errno 2] No such file or directory: 'models/imdb_rating_model.pkl'"
     ]
    }
   ],
   "source": [
    "import joblib\n",
    "\n",
    "# Salvar o modelo\n",
    "joblib.dump(model, 'models/imdb_rating_model.pkl')  # criar a pasta 'models' na raiz se não existir\n"
   ]
  },
  {
   "cell_type": "markdown",
   "id": "13ed2764",
   "metadata": {},
   "source": [
    "Perfeito! Aqui está uma versão completa e profissional em inglês que responde todas as perguntas do enunciado, baseada no que você já fez:\n",
    "\n",
    "---\n",
    "\n",
    "**IMDB Rating Prediction Explanation**\n",
    "\n",
    "To predict the IMDB rating of a movie, I treated the task as a **regression problem** because the target variable (`IMDB_Rating`) is continuous. The goal is to estimate the numeric rating based on various features describing the movie.\n",
    "\n",
    "**Variables and Transformations**\n",
    "\n",
    "* **Numeric features:** `Runtime_Min`, `Meta_score`, `Gross_USD`, `No_of_Votes`. These variables are already numerical and were used directly, with missing values imputed when necessary.\n",
    "* **Categorical features:** `Certificate`. One-hot encoding was applied to convert the categories into binary columns suitable for the model.\n",
    "* **Text feature:** `Overview`. The text was transformed using TF-IDF vectorization to capture important keywords and semantic information that might correlate with the movie's rating.\n",
    "* **Genre:** Already one-hot encoded as multiple binary columns representing each possible genre. This allows the model to account for genre-specific patterns in IMDB ratings.\n",
    "\n",
    "**Model Choice**\n",
    "\n",
    "I selected a **Gradient Boosting Regressor** because it handles heterogeneous feature types well, captures nonlinear relationships, and is robust to outliers.\n",
    "\n",
    "* **Pros:** Strong predictive power, can model complex interactions, works well with mixed numeric and categorical inputs after preprocessing.\n",
    "* **Cons:** Computationally more intensive than linear models, harder to interpret, sensitive to hyperparameters if not tuned.\n",
    "\n",
    "**Performance Metrics**\n",
    "\n",
    "* **Root Mean Squared Error (RMSE):** 0.208 – gives an estimate of the average prediction error in rating points.\n",
    "* **R² Score:** 0.343 – indicates that approximately 34% of the variance in IMDB ratings is explained by the model.\n",
    "\n",
    "RMSE was chosen because it penalizes large errors more heavily and is intuitive in the same scale as the ratings. R² complements RMSE by indicating how much variance the model can explain.\n",
    "\n",
    "**Prediction Example**\n",
    "\n",
    "For the movie *The Shawshank Redemption* with the following characteristics:\n",
    "\n",
    "```python\n",
    "{\n",
    " 'Series_Title': 'The Shawshank Redemption',\n",
    " 'Released_Year': 1994,\n",
    " 'Certificate': 'A',\n",
    " 'Runtime_Min': 142,\n",
    " 'Genre': 'Drama',\n",
    " 'Overview': 'Two imprisoned men bond over a number of years, finding solace and eventual redemption through acts of common decency.',\n",
    " 'Meta_score': 80.0,\n",
    " 'Director': 'Frank Darabont',\n",
    " 'Star1': 'Tim Robbins',\n",
    " 'Star2': 'Morgan Freeman',\n",
    " 'No_of_Votes': 2343110,\n",
    " 'Gross_USD': 28341469\n",
    "}\n",
    "```\n",
    "\n",
    "The model predicts an **IMDB rating of 8.61**, which is consistent with the known high rating of this classic film.\n",
    "\n",
    "---\n",
    "\n",
    "Se você quiser, posso também escrever **uma versão ainda mais resumida**, própria para colocar direto no relatório de forma concisa, sem perder profissionalismo. Quer que eu faça isso também?\n"
   ]
  },
  {
   "cell_type": "code",
   "execution_count": null,
   "id": "7d02f737",
   "metadata": {},
   "outputs": [],
   "source": [
    "# Treinamento\n",
    "model.fit(X_train, y_train)\n",
    "\n",
    "# Teste rápido (opcional)\n",
    "y_pred = model.predict(X_test)\n",
    "print(\"RMSE:\", mean_squared_error(y_test, y_pred, squared=False))\n",
    "\n",
    "# Salvar o modelo\n",
    "#import joblib\n",
    "#joblib.dump(model, 'models/imdb_rating_model.pkl')  # criar a pasta 'models' na raiz se não existir\n"
   ]
  }
 ],
 "metadata": {
  "kernelspec": {
   "display_name": "Python 3",
   "language": "python",
   "name": "python3"
  },
  "language_info": {
   "codemirror_mode": {
    "name": "ipython",
    "version": 3
   },
   "file_extension": ".py",
   "mimetype": "text/x-python",
   "name": "python",
   "nbconvert_exporter": "python",
   "pygments_lexer": "ipython3",
   "version": "3.11.5"
  }
 },
 "nbformat": 4,
 "nbformat_minor": 5
}
